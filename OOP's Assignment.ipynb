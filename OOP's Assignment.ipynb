{
 "cells": [
  {
   "cell_type": "markdown",
   "metadata": {},
   "source": [
    "**Question1:**\n",
    "    \n",
    "Define a class named Rectangle which can be constructed by a length and width. The Rectangle class has a method which can compute the area.\n"
   ]
  },
  {
   "cell_type": "code",
   "execution_count": 11,
   "metadata": {},
   "outputs": [],
   "source": [
    "class Rectangle():\n",
    "    def __init__(self,length,breadth):#constructor method..it is essentially/complasary if  when you define constructor method\n",
    "        self.l = length\n",
    "        self.b = breadth\n",
    "    def area(self):\n",
    "        return \"area of a rectangle\",self.l*self.b"
   ]
  },
  {
   "cell_type": "code",
   "execution_count": 12,
   "metadata": {},
   "outputs": [
    {
     "data": {
      "text/plain": [
       "('area of a rectangle', 408)"
      ]
     },
     "execution_count": 12,
     "metadata": {},
     "output_type": "execute_result"
    }
   ],
   "source": [
    "areaRec = Rectangle(12,34)\n",
    "areaRec.area()"
   ]
  },
  {
   "cell_type": "markdown",
   "metadata": {},
   "source": [
    "**Question2:**\n",
    "    \n",
    "Define a Book class with the following attributes: Title, Author (Full name), Price.\n",
    "Define a constructor used to initialize the attributes of the method with values entered by the user.\n",
    "Set the View() method to display information for the current book.\n",
    "Write a program to test the Book class.\n"
   ]
  },
  {
   "cell_type": "code",
   "execution_count": 17,
   "metadata": {},
   "outputs": [],
   "source": [
    "class Book():\n",
    "    def __init__(self,title,author,price):\n",
    "        self.t = title\n",
    "        self.a = author\n",
    "        self.p = price\n",
    "    def view(self):\n",
    "        print(\"The current book title is %s and author name is %s price is %d\",(self.t,self.a,self.p))"
   ]
  },
  {
   "cell_type": "code",
   "execution_count": 18,
   "metadata": {},
   "outputs": [
    {
     "name": "stdout",
     "output_type": "stream",
     "text": [
      "The current book title is %s and author name is %s price is %d ('Wings of fire', 'Abdul KAlam', 1200)\n"
     ]
    }
   ],
   "source": [
    "book = Book(\"Wings of fire\",\"Abdul KAlam\",1200)\n",
    "book.view()"
   ]
  },
  {
   "cell_type": "markdown",
   "metadata": {},
   "source": [
    "**Question3:**\n",
    "    \n",
    "1. Create a Python class called BankAccount which represents a bank account, having as attributes: accountNumber (numeric type), name (name of the account owner as string type), balance.\n",
    "2. Create a constructor with parameters: accountNumber, name, balance.\n",
    "3. Create a Deposit() method which manages the deposit actions.\n",
    "4. Create a Withdrawal() method  which manages withdrawals actions.\n",
    "5. Create an bankFees() method to apply the bank fees with a percentage of 5% of the balance account.\n",
    "6. Create a display() method to display account details.\n",
    "7. Give the complete code for the  BankAccount class.\n",
    "\n"
   ]
  },
  {
   "cell_type": "code",
   "execution_count": 64,
   "metadata": {},
   "outputs": [],
   "source": [
    "class BankAccount():\n",
    "    def __init__(self,accountNumber,name,balance):\n",
    "        self.accNum = accountNumber\n",
    "        self.n = name\n",
    "        self.b = balance\n",
    "    def Deposit(self,deposit):\n",
    "        self.d = deposit\n",
    "        self.b=self.b+self.d\n",
    "        return(\"print balance %d after adding deposit %d\",self.b)\n",
    "    def Withdrawal(self,withdraw):\n",
    "        self.w = withdraw\n",
    "        if self.b < self.w:\n",
    "            print(\"Insufficient balance\")\n",
    "        else:\n",
    "            print(\"withdrawal sucessful\",self.b)\n",
    "            self.b=self.b-self.w\n",
    "            print(\"print balance %d after withdraw amount %d from original balance\",(self.b,self.w))\n",
    "    def bankFees(self):\n",
    "        fees = (5/100)*self.b#5 %interest amount\n",
    "        return fees\n",
    "    def display(self):\n",
    "        print(\"Account Number \",self.accNum)\n",
    "        print(\"Name of the customer\",self.n)\n",
    "        print(\"Balance ammount\",self.b)"
   ]
  },
  {
   "cell_type": "code",
   "execution_count": 65,
   "metadata": {},
   "outputs": [
    {
     "name": "stdout",
     "output_type": "stream",
     "text": [
      "Account Number  1234566748\n",
      "Name of the customer Sushma\n",
      "Balance ammount 59000\n"
     ]
    }
   ],
   "source": [
    "bankdetails = BankAccount(1234566748,\"Sushma\",59000)\n",
    "bankdetails.display()"
   ]
  },
  {
   "cell_type": "code",
   "execution_count": 66,
   "metadata": {},
   "outputs": [
    {
     "data": {
      "text/plain": [
       "('print balance %d after adding deposit %d', 61700)"
      ]
     },
     "execution_count": 66,
     "metadata": {},
     "output_type": "execute_result"
    }
   ],
   "source": [
    "bankdetails.Deposit(2700)"
   ]
  },
  {
   "cell_type": "code",
   "execution_count": 67,
   "metadata": {},
   "outputs": [
    {
     "name": "stdout",
     "output_type": "stream",
     "text": [
      "withdrawal sucessful 61700\n",
      "print balance %d after withdraw amount %d from original balance (58300, 3400)\n"
     ]
    }
   ],
   "source": [
    "bankdetails.Withdrawal(3400)"
   ]
  },
  {
   "cell_type": "code",
   "execution_count": 68,
   "metadata": {},
   "outputs": [
    {
     "data": {
      "text/plain": [
       "2915.0"
      ]
     },
     "execution_count": 68,
     "metadata": {},
     "output_type": "execute_result"
    }
   ],
   "source": [
    "bankdetails.bankFees()"
   ]
  },
  {
   "cell_type": "markdown",
   "metadata": {},
   "source": [
    "**Question4:**\n",
    "    \n",
    "1. Write a Rectangle class in Python language, allowing you to build a rectangle with length and width attributes.\n",
    "2. Create a Perimeter() method to calculate the perimeter of the rectangle and a Area() method to calculate the area of ​​the rectangle.\n",
    "3. Create a method display() that displays the length, width, perimeter and area of an object created using an instantiation on a rectangle class.\n",
    "4. Create a Parallelpiped child class inheriting from the Rectangle class and with a height attribute and another Volume() method to calculate the volume of the Parallelpiped.\n"
   ]
  },
  {
   "cell_type": "code",
   "execution_count": 69,
   "metadata": {},
   "outputs": [],
   "source": [
    "class Rectangle():\n",
    "    def __init__(self,length,width):\n",
    "        self.l = length\n",
    "        self.w = width\n",
    "    def Perimeter(self):\n",
    "        return \"Perimeter of a rectangle\",2*(self.l+self.w)\n",
    "    def Area(self):\n",
    "        return \"Area of a rectangle \",self.l*self.w\n",
    "    def display(self):\n",
    "        print(\"length is\",self.l)\n",
    "        print(\"width is\",self.w)\n",
    "        print(\"Perimeter of a rectangle\",self.Perimeter())\n",
    "        print(\"Area of a rectangle\",self.Area())\n",
    "class Parallelpiped(Rectangle):\n",
    "    def __init__(self,length,width,height):\n",
    "        Rectangle.__init__(self,length,width)\n",
    "        self.h = height\n",
    "    def Volume(self):\n",
    "        print(self.l*self.w*self.h)"
   ]
  },
  {
   "cell_type": "code",
   "execution_count": 70,
   "metadata": {},
   "outputs": [
    {
     "name": "stdout",
     "output_type": "stream",
     "text": [
      "40\n"
     ]
    }
   ],
   "source": [
    "rec = Parallelpiped(2,4,5)\n",
    "rec.Volume()"
   ]
  },
  {
   "cell_type": "code",
   "execution_count": 71,
   "metadata": {},
   "outputs": [
    {
     "name": "stdout",
     "output_type": "stream",
     "text": [
      "length is 2\n",
      "width is 4\n",
      "Perimeter of a rectangle ('Perimeter of a rectangle', 12)\n",
      "Area of a rectangle ('Area of a rectangle ', 8)\n"
     ]
    }
   ],
   "source": [
    "rec1 = Rectangle(2,4)\n",
    "rec1.display()"
   ]
  },
  {
   "cell_type": "code",
   "execution_count": 72,
   "metadata": {},
   "outputs": [
    {
     "data": {
      "text/plain": [
       "('Area of a rectangle ', 8)"
      ]
     },
     "execution_count": 72,
     "metadata": {},
     "output_type": "execute_result"
    }
   ],
   "source": [
    "rec1.Area()"
   ]
  },
  {
   "cell_type": "code",
   "execution_count": 93,
   "metadata": {},
   "outputs": [],
   "source": [
    "class student():\n",
    "    def __init__(self,name,roll_no):\n",
    "        self.n=name\n",
    "        self.r=roll_no\n",
    "    def display(self):\n",
    "         print(\"display name of student\",self.n,self.r)"
   ]
  },
  {
   "cell_type": "code",
   "execution_count": 94,
   "metadata": {},
   "outputs": [],
   "source": [
    "class personal(student):\n",
    "    def __init__(self,name,roll_no,phone_number):\n",
    "        student.__init__(self,name,roll_no)\n",
    "        self.ph=phone_number\n",
    "    def displayp(self):\n",
    "        return \"print all student info\",self.ph,self.n,self.r\n",
    "        "
   ]
  },
  {
   "cell_type": "code",
   "execution_count": 95,
   "metadata": {},
   "outputs": [
    {
     "data": {
      "text/plain": [
       "('print all student info', 5678495677, 'dora', 14)"
      ]
     },
     "execution_count": 95,
     "metadata": {},
     "output_type": "execute_result"
    }
   ],
   "source": [
    "p=personal(\"dora\",14,5678495677)\n",
    "p.displayp()"
   ]
  },
  {
   "cell_type": "code",
   "execution_count": 96,
   "metadata": {},
   "outputs": [
    {
     "name": "stdout",
     "output_type": "stream",
     "text": [
      "display name of student shijuka 10\n"
     ]
    }
   ],
   "source": [
    "s=student(\"shijuka\",10)\n",
    "s.display()"
   ]
  },
  {
   "cell_type": "markdown",
   "metadata": {},
   "source": [
    "**Question5:**\n",
    "\n",
    "Create a Python class Person with attributes: name and age of type string.\n",
    "Create a display() method that displays the name and age of an object created via the Person class.\n",
    "Create a child class Student  which inherits from the Person class and which also has a section attribute.\n",
    "Create a method displayStudent() that displays the name, age and section of an object created via the Student class.\n",
    "Create a student object via an instantiation on the Student class and then test the displayStudent method.\n"
   ]
  },
  {
   "cell_type": "code",
   "execution_count": 77,
   "metadata": {},
   "outputs": [],
   "source": [
    "class person():\n",
    "    def __init__(self,name,age):\n",
    "        self.l = name\n",
    "        self.b = age\n",
    "    def display(self):\n",
    "        return (\"name of a person %s and age of person %d\",(self.l,self.b)) \n",
    "    "
   ]
  },
  {
   "cell_type": "code",
   "execution_count": 74,
   "metadata": {},
   "outputs": [],
   "source": [
    "class student(person):\n",
    "    def __init__(self,name,age,section):\n",
    "        person.__init__(self,name,age)\n",
    "        self.s = section\n",
    "    def displayStudent(self):\n",
    "         return (\"name of a person %s and age of person %d and section %s\",(self.l,self.b,self.s))"
   ]
  },
  {
   "cell_type": "code",
   "execution_count": 75,
   "metadata": {},
   "outputs": [
    {
     "data": {
      "text/plain": [
       "('name of a person %s and age of person %d and section %s',\n",
       " ('aashu', 23, 'Accounting'))"
      ]
     },
     "execution_count": 75,
     "metadata": {},
     "output_type": "execute_result"
    }
   ],
   "source": [
    "a=student('aashu',23,'Accounting')\n",
    "a.displayStudent()"
   ]
  },
  {
   "cell_type": "code",
   "execution_count": 79,
   "metadata": {},
   "outputs": [
    {
     "data": {
      "text/plain": [
       "('name of a person %s and age of person %d', ('aashu', 27))"
      ]
     },
     "execution_count": 79,
     "metadata": {},
     "output_type": "execute_result"
    }
   ],
   "source": [
    "b=person('aashu',27)\n",
    "b.display()"
   ]
  }
 ],
 "metadata": {
  "kernelspec": {
   "display_name": "Python 3",
   "language": "python",
   "name": "python3"
  },
  "language_info": {
   "codemirror_mode": {
    "name": "ipython",
    "version": 3
   },
   "file_extension": ".py",
   "mimetype": "text/x-python",
   "name": "python",
   "nbconvert_exporter": "python",
   "pygments_lexer": "ipython3",
   "version": "3.7.3"
  }
 },
 "nbformat": 4,
 "nbformat_minor": 2
}
